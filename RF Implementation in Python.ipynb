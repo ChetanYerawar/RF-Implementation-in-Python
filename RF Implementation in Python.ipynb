{
 "cells": [
  {
   "cell_type": "markdown",
   "metadata": {},
   "source": [
    "## The dataset has  credit card transactions where our objective is to identify the fraudulent transactions"
   ]
  },
  {
   "cell_type": "markdown",
   "metadata": {},
   "source": [
    "### Importing required libraries"
   ]
  },
  {
   "cell_type": "code",
   "execution_count": 1,
   "metadata": {},
   "outputs": [],
   "source": [
    "import pandas as pd\n",
    "import numpy as np\n",
    "import matplotlib.pyplot as plt\n",
    "from sklearn.model_selection import train_test_split\n",
    "from sklearn.ensemble import RandomForestClassifier\n",
    "from sklearn.metrics import roc_auc_score, confusion_matrix, accuracy_score\n",
    "from pylab import rcParams\n",
    "rcParams['figure.figsize'] = 8, 8"
   ]
  },
  {
   "cell_type": "code",
   "execution_count": 2,
   "metadata": {},
   "outputs": [],
   "source": [
    "# Reading in the dataset\n",
    "data = pd.read_csv(\"C:\\\\Users\\\\LENOVO\\\\Desktop\\\\NLP code & Data Set\\\\creditcard.csv\")"
   ]
  },
  {
   "cell_type": "code",
   "execution_count": 3,
   "metadata": {},
   "outputs": [
    {
     "data": {
      "text/html": [
       "<div>\n",
       "<style scoped>\n",
       "    .dataframe tbody tr th:only-of-type {\n",
       "        vertical-align: middle;\n",
       "    }\n",
       "\n",
       "    .dataframe tbody tr th {\n",
       "        vertical-align: top;\n",
       "    }\n",
       "\n",
       "    .dataframe thead th {\n",
       "        text-align: right;\n",
       "    }\n",
       "</style>\n",
       "<table border=\"1\" class=\"dataframe\">\n",
       "  <thead>\n",
       "    <tr style=\"text-align: right;\">\n",
       "      <th></th>\n",
       "      <th>V1</th>\n",
       "      <th>V2</th>\n",
       "      <th>V3</th>\n",
       "      <th>V4</th>\n",
       "      <th>V5</th>\n",
       "      <th>V6</th>\n",
       "      <th>V7</th>\n",
       "      <th>V8</th>\n",
       "      <th>V9</th>\n",
       "      <th>V10</th>\n",
       "      <th>...</th>\n",
       "      <th>V21</th>\n",
       "      <th>V22</th>\n",
       "      <th>V23</th>\n",
       "      <th>V24</th>\n",
       "      <th>V25</th>\n",
       "      <th>V26</th>\n",
       "      <th>V27</th>\n",
       "      <th>V28</th>\n",
       "      <th>V29</th>\n",
       "      <th>Target</th>\n",
       "    </tr>\n",
       "  </thead>\n",
       "  <tbody>\n",
       "    <tr>\n",
       "      <th>0</th>\n",
       "      <td>0.114697</td>\n",
       "      <td>0.796303</td>\n",
       "      <td>-0.149553</td>\n",
       "      <td>-0.823011</td>\n",
       "      <td>0.878763</td>\n",
       "      <td>-0.553152</td>\n",
       "      <td>0.939259</td>\n",
       "      <td>-0.108502</td>\n",
       "      <td>0.111137</td>\n",
       "      <td>-0.390521</td>\n",
       "      <td>...</td>\n",
       "      <td>-0.335776</td>\n",
       "      <td>-0.807853</td>\n",
       "      <td>-0.055940</td>\n",
       "      <td>-1.025281</td>\n",
       "      <td>-0.369557</td>\n",
       "      <td>0.204653</td>\n",
       "      <td>0.242724</td>\n",
       "      <td>0.085713</td>\n",
       "      <td>0.89</td>\n",
       "      <td>0</td>\n",
       "    </tr>\n",
       "    <tr>\n",
       "      <th>1</th>\n",
       "      <td>-0.039318</td>\n",
       "      <td>0.495784</td>\n",
       "      <td>-0.810884</td>\n",
       "      <td>0.546693</td>\n",
       "      <td>1.986257</td>\n",
       "      <td>4.386342</td>\n",
       "      <td>-1.344891</td>\n",
       "      <td>-1.743736</td>\n",
       "      <td>-0.563103</td>\n",
       "      <td>-0.616315</td>\n",
       "      <td>...</td>\n",
       "      <td>-1.377003</td>\n",
       "      <td>-0.072200</td>\n",
       "      <td>-0.197573</td>\n",
       "      <td>1.014807</td>\n",
       "      <td>1.011293</td>\n",
       "      <td>-0.167684</td>\n",
       "      <td>0.113136</td>\n",
       "      <td>0.256836</td>\n",
       "      <td>85.00</td>\n",
       "      <td>0</td>\n",
       "    </tr>\n",
       "    <tr>\n",
       "      <th>2</th>\n",
       "      <td>2.275706</td>\n",
       "      <td>-1.531508</td>\n",
       "      <td>-1.021969</td>\n",
       "      <td>-1.602152</td>\n",
       "      <td>-1.220329</td>\n",
       "      <td>-0.462376</td>\n",
       "      <td>-1.196485</td>\n",
       "      <td>-0.147058</td>\n",
       "      <td>-0.950224</td>\n",
       "      <td>1.560463</td>\n",
       "      <td>...</td>\n",
       "      <td>-0.193271</td>\n",
       "      <td>-0.103533</td>\n",
       "      <td>0.150945</td>\n",
       "      <td>-0.811083</td>\n",
       "      <td>-0.197913</td>\n",
       "      <td>-0.128446</td>\n",
       "      <td>0.014197</td>\n",
       "      <td>-0.051289</td>\n",
       "      <td>42.70</td>\n",
       "      <td>0</td>\n",
       "    </tr>\n",
       "    <tr>\n",
       "      <th>3</th>\n",
       "      <td>1.940137</td>\n",
       "      <td>-0.357671</td>\n",
       "      <td>-1.210551</td>\n",
       "      <td>0.382523</td>\n",
       "      <td>0.050823</td>\n",
       "      <td>-0.171322</td>\n",
       "      <td>-0.109124</td>\n",
       "      <td>-0.002115</td>\n",
       "      <td>0.869258</td>\n",
       "      <td>-0.001965</td>\n",
       "      <td>...</td>\n",
       "      <td>0.157994</td>\n",
       "      <td>0.650355</td>\n",
       "      <td>0.034206</td>\n",
       "      <td>0.739535</td>\n",
       "      <td>0.223605</td>\n",
       "      <td>-0.195509</td>\n",
       "      <td>-0.012791</td>\n",
       "      <td>-0.056841</td>\n",
       "      <td>29.99</td>\n",
       "      <td>0</td>\n",
       "    </tr>\n",
       "    <tr>\n",
       "      <th>4</th>\n",
       "      <td>1.081395</td>\n",
       "      <td>-0.502615</td>\n",
       "      <td>1.075887</td>\n",
       "      <td>-0.543359</td>\n",
       "      <td>-1.472946</td>\n",
       "      <td>-1.065484</td>\n",
       "      <td>-0.443231</td>\n",
       "      <td>-0.143374</td>\n",
       "      <td>1.659826</td>\n",
       "      <td>-1.131238</td>\n",
       "      <td>...</td>\n",
       "      <td>0.224157</td>\n",
       "      <td>0.821209</td>\n",
       "      <td>-0.137223</td>\n",
       "      <td>0.986259</td>\n",
       "      <td>0.563228</td>\n",
       "      <td>-0.574206</td>\n",
       "      <td>0.089673</td>\n",
       "      <td>0.052036</td>\n",
       "      <td>68.00</td>\n",
       "      <td>0</td>\n",
       "    </tr>\n",
       "  </tbody>\n",
       "</table>\n",
       "<p>5 rows × 30 columns</p>\n",
       "</div>"
      ],
      "text/plain": [
       "         V1        V2        V3        V4        V5        V6        V7  \\\n",
       "0  0.114697  0.796303 -0.149553 -0.823011  0.878763 -0.553152  0.939259   \n",
       "1 -0.039318  0.495784 -0.810884  0.546693  1.986257  4.386342 -1.344891   \n",
       "2  2.275706 -1.531508 -1.021969 -1.602152 -1.220329 -0.462376 -1.196485   \n",
       "3  1.940137 -0.357671 -1.210551  0.382523  0.050823 -0.171322 -0.109124   \n",
       "4  1.081395 -0.502615  1.075887 -0.543359 -1.472946 -1.065484 -0.443231   \n",
       "\n",
       "         V8        V9       V10  ...       V21       V22       V23       V24  \\\n",
       "0 -0.108502  0.111137 -0.390521  ... -0.335776 -0.807853 -0.055940 -1.025281   \n",
       "1 -1.743736 -0.563103 -0.616315  ... -1.377003 -0.072200 -0.197573  1.014807   \n",
       "2 -0.147058 -0.950224  1.560463  ... -0.193271 -0.103533  0.150945 -0.811083   \n",
       "3 -0.002115  0.869258 -0.001965  ...  0.157994  0.650355  0.034206  0.739535   \n",
       "4 -0.143374  1.659826 -1.131238  ...  0.224157  0.821209 -0.137223  0.986259   \n",
       "\n",
       "        V25       V26       V27       V28    V29  Target  \n",
       "0 -0.369557  0.204653  0.242724  0.085713   0.89       0  \n",
       "1  1.011293 -0.167684  0.113136  0.256836  85.00       0  \n",
       "2 -0.197913 -0.128446  0.014197 -0.051289  42.70       0  \n",
       "3  0.223605 -0.195509 -0.012791 -0.056841  29.99       0  \n",
       "4  0.563228 -0.574206  0.089673  0.052036  68.00       0  \n",
       "\n",
       "[5 rows x 30 columns]"
      ]
     },
     "execution_count": 3,
     "metadata": {},
     "output_type": "execute_result"
    }
   ],
   "source": [
    "data.head()"
   ]
  },
  {
   "cell_type": "code",
   "execution_count": 4,
   "metadata": {},
   "outputs": [
    {
     "data": {
      "text/plain": [
       "(56962, 30)"
      ]
     },
     "execution_count": 4,
     "metadata": {},
     "output_type": "execute_result"
    }
   ],
   "source": [
    "# Checking the shape of our data\n",
    "data.shape\n"
   ]
  },
  {
   "cell_type": "code",
   "execution_count": 5,
   "metadata": {},
   "outputs": [
    {
     "data": {
      "text/plain": [
       "0    56864\n",
       "1       98\n",
       "Name: Target, dtype: int64"
      ]
     },
     "execution_count": 5,
     "metadata": {},
     "output_type": "execute_result"
    }
   ],
   "source": [
    "# Checking the distribution of two classes in the target variable\n",
    "data.Target.value_counts()"
   ]
  },
  {
   "cell_type": "code",
   "execution_count": 6,
   "metadata": {},
   "outputs": [
    {
     "data": {
      "text/plain": [
       "0.17234102419808667"
      ]
     },
     "execution_count": 6,
     "metadata": {},
     "output_type": "execute_result"
    }
   ],
   "source": [
    "98/56864 *100"
   ]
  },
  {
   "cell_type": "markdown",
   "metadata": {},
   "source": [
    "#### Clearly the dataset is heavily imbalanced"
   ]
  },
  {
   "cell_type": "markdown",
   "metadata": {},
   "source": [
    "#### Creating the two datasets, one with all the independent variables and the other with our dependent variable"
   ]
  },
  {
   "cell_type": "code",
   "execution_count": 7,
   "metadata": {},
   "outputs": [],
   "source": [
    "# Creating the dataset with all independent variables\n",
    "X = data.iloc[:,:-1]\n",
    "\n",
    "# Creating the dataset with the dependent variables\n",
    "Y = data.iloc[:,-1]"
   ]
  },
  {
   "cell_type": "markdown",
   "metadata": {},
   "source": [
    "* ### Split the dataset into train and test using stratified sampling on our dependent variable."
   ]
  },
  {
   "cell_type": "markdown",
   "metadata": {},
   "source": [
    "* ### Using a stratified sampling ensures the distribution of dependent variable remains same across train and test datasets"
   ]
  },
  {
   "cell_type": "code",
   "execution_count": 8,
   "metadata": {},
   "outputs": [],
   "source": [
    "# Splitting the dataset into the Training set and Test set\n",
    "X_train, X_test, Y_train, Y_test = train_test_split(X, Y, test_size = 0.2, random_state = 0, stratify = Y)"
   ]
  },
  {
   "cell_type": "markdown",
   "metadata": {},
   "source": [
    "### Check the shape of train and test datasets"
   ]
  },
  {
   "cell_type": "code",
   "execution_count": 9,
   "metadata": {},
   "outputs": [
    {
     "name": "stdout",
     "output_type": "stream",
     "text": [
      "The shape of train dataset :\n",
      "(45569, 29)\n",
      "\n",
      " The shape of test dataset :\n",
      "(11393, 29)\n"
     ]
    }
   ],
   "source": [
    "print(\"The shape of train dataset :\")\n",
    "print(X_train.shape)\n",
    "print(\"\\n The shape of test dataset :\")\n",
    "print(X_test.shape)"
   ]
  },
  {
   "cell_type": "markdown",
   "metadata": {},
   "source": [
    "### Check the distribution of classes of dependent variable in train and test"
   ]
  },
  {
   "cell_type": "code",
   "execution_count": 10,
   "metadata": {},
   "outputs": [
    {
     "name": "stdout",
     "output_type": "stream",
     "text": [
      "Distribution of classes of dependent variable in train :\n",
      "0    45491\n",
      "1       78\n",
      "Name: Target, dtype: int64\n",
      "\n",
      " Distribution of classes of dependent variable in test :\n",
      "0    11373\n",
      "1       20\n",
      "Name: Target, dtype: int64\n"
     ]
    }
   ],
   "source": [
    "print(\"Distribution of classes of dependent variable in train :\")\n",
    "print(Y_train.value_counts())\n",
    "print(\"\\n Distribution of classes of dependent variable in test :\")\n",
    "print(Y_test.value_counts())"
   ]
  },
  {
   "cell_type": "markdown",
   "metadata": {},
   "source": [
    "### Training using Random Forest Classifier"
   ]
  },
  {
   "cell_type": "code",
   "execution_count": 11,
   "metadata": {},
   "outputs": [
    {
     "data": {
      "text/plain": [
       "RandomForestClassifier(bootstrap=True, class_weight=None, criterion='gini',\n",
       "            max_depth=None, max_features='auto', max_leaf_nodes=None,\n",
       "            min_impurity_decrease=0.0, min_impurity_split=None,\n",
       "            min_samples_leaf=1, min_samples_split=2,\n",
       "            min_weight_fraction_leaf=0.0, n_estimators=50, n_jobs=None,\n",
       "            oob_score=False, random_state=0, verbose=0, warm_start=False)"
      ]
     },
     "execution_count": 11,
     "metadata": {},
     "output_type": "execute_result"
    }
   ],
   "source": [
    "# Create a rf_classifier object with number of trees set to 50\n",
    "rf_classifier = RandomForestClassifier(n_estimators=50,random_state=0)\n",
    "\n",
    "# Fit the object to train dataset\n",
    "rf_classifier.fit(X_train, Y_train)"
   ]
  },
  {
   "cell_type": "markdown",
   "metadata": {},
   "source": [
    "### Predicting on both train and test dataset using the fitted model"
   ]
  },
  {
   "cell_type": "code",
   "execution_count": 12,
   "metadata": {},
   "outputs": [],
   "source": [
    "train_preds =  rf_classifier.predict(X_train)\n",
    "test_preds  = rf_classifier.predict(X_test)"
   ]
  },
  {
   "cell_type": "code",
   "execution_count": 13,
   "metadata": {},
   "outputs": [
    {
     "data": {
      "text/plain": [
       "0.9999780552568632"
      ]
     },
     "execution_count": 13,
     "metadata": {},
     "output_type": "execute_result"
    }
   ],
   "source": [
    "# Obtain accuracy on train set\n",
    "accuracy_score(Y_train,train_preds)"
   ]
  },
  {
   "cell_type": "code",
   "execution_count": 14,
   "metadata": {},
   "outputs": [
    {
     "data": {
      "text/plain": [
       "0.9991222680593347"
      ]
     },
     "execution_count": 14,
     "metadata": {},
     "output_type": "execute_result"
    }
   ],
   "source": [
    "# Obtain accuracy on test set\n",
    "accuracy_score(Y_test,test_preds)"
   ]
  },
  {
   "cell_type": "markdown",
   "metadata": {},
   "source": [
    "### Accuracy is not a good metric to evaluate our model since the dataset is heavily imbalanced. Thus we will use roc_auc score"
   ]
  },
  {
   "cell_type": "code",
   "execution_count": 15,
   "metadata": {},
   "outputs": [
    {
     "data": {
      "text/plain": [
       "0.9935897435897436"
      ]
     },
     "execution_count": 15,
     "metadata": {},
     "output_type": "execute_result"
    }
   ],
   "source": [
    "# Calculate roc_auc score on train set\n",
    "roc_auc_score(Y_train,train_preds)"
   ]
  },
  {
   "cell_type": "code",
   "execution_count": 16,
   "metadata": {},
   "outputs": [
    {
     "data": {
      "text/plain": [
       "0.824868108678449"
      ]
     },
     "execution_count": 16,
     "metadata": {},
     "output_type": "execute_result"
    }
   ],
   "source": [
    "# Calculate roc_auc score on test set\n",
    "roc_auc_score(Y_test,test_preds)"
   ]
  },
  {
   "cell_type": "code",
   "execution_count": 17,
   "metadata": {},
   "outputs": [
    {
     "data": {
      "text/plain": [
       "array([[45491,     0],\n",
       "       [    1,    77]], dtype=int64)"
      ]
     },
     "execution_count": 17,
     "metadata": {},
     "output_type": "execute_result"
    }
   ],
   "source": [
    "# Obtain the confusion matrix on train set\n",
    "confusion_matrix(Y_train,train_preds)"
   ]
  },
  {
   "cell_type": "code",
   "execution_count": 18,
   "metadata": {},
   "outputs": [
    {
     "data": {
      "text/plain": [
       "array([[11370,     3],\n",
       "       [    7,    13]], dtype=int64)"
      ]
     },
     "execution_count": 18,
     "metadata": {},
     "output_type": "execute_result"
    }
   ],
   "source": [
    "# Obtain the confusion matrix on test set\n",
    "confusion_matrix(Y_test,test_preds)"
   ]
  },
  {
   "cell_type": "markdown",
   "metadata": {},
   "source": [
    "### Plot the variable importance"
   ]
  },
  {
   "cell_type": "code",
   "execution_count": 19,
   "metadata": {},
   "outputs": [],
   "source": [
    "features = X_train.columns\n",
    "importances = rf_classifier.feature_importances_\n",
    "indices = np.argsort(importances)"
   ]
  },
  {
   "cell_type": "code",
   "execution_count": 21,
   "metadata": {},
   "outputs": [
    {
     "data": {
      "image/png": "[encoded data removed]",
      "text/plain": [
       "<Figure size 432x288 with 1 Axes>"
      ]
     },
     "metadata": {
      "needs_background": "light"
     },
     "output_type": "display_data"
    }
   ],
   "source": [
    "plt.title('Feature Importances')\n",
    "plt.barh(range(len(indices)), importances[indices], color='black', align='center')\n",
    "plt.yticks(range(len(indices)), [features[i] for i in indices])\n",
    "plt.xlabel('Relative Importance')\n",
    "\n",
    "plt.show()"
   ]
  },
  {
   "cell_type": "code",
   "execution_count": null,
   "metadata": {},
   "outputs": [],
   "source": []
  },
  {
   "cell_type": "code",
   "execution_count": null,
   "metadata": {},
   "outputs": [],
   "source": []
  }
 ],
 "metadata": {
  "kernelspec": {
   "display_name": "Python 3",
   "language": "python",
   "name": "python3"
  },
  "language_info": {
   "codemirror_mode": {
    "name": "ipython",
    "version": 3
   },
   "file_extension": ".py",
   "mimetype": "text/x-python",
   "name": "python",
   "nbconvert_exporter": "python",
   "pygments_lexer": "ipython3",
   "version": "3.7.1"
  }
 },
 "nbformat": 4,
 "nbformat_minor": 2
}
